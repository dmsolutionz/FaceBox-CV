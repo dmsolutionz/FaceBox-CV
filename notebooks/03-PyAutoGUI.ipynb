{
 "cells": [
  {
   "cell_type": "code",
   "execution_count": 57,
   "metadata": {},
   "outputs": [],
   "source": [
    "import pyautogui as pg\n",
    "import time\n",
    "pyautogui.FAILSAFE = True\n",
    "pyautogui.MINIMUM_DURATION = 0.001"
   ]
  },
  {
   "cell_type": "code",
   "execution_count": 44,
   "metadata": {},
   "outputs": [
    {
     "data": {
      "text/plain": [
       "Size(width=1920, height=1080)"
      ]
     },
     "execution_count": 44,
     "metadata": {},
     "output_type": "execute_result"
    }
   ],
   "source": [
    "pg.size()"
   ]
  },
  {
   "cell_type": "code",
   "execution_count": 45,
   "metadata": {},
   "outputs": [],
   "source": [
    "# Move curser to center of screen\n",
    "pg.moveTo(pg.size()[0]/2, pg.size()[1]/2)"
   ]
  },
  {
   "cell_type": "code",
   "execution_count": 46,
   "metadata": {},
   "outputs": [],
   "source": [
    "# Back and forth\n",
    "x = pg.size()[0] * 0.75    # width\n",
    "y = pg.size()[1] * 0.5    # height\n",
    "pyautogui.moveTo(x-100, y, duration=0.2)\n",
    "\n",
    "pyautogui.dragTo(x+100, y, duration=1)\n",
    "pyautogui.dragTo(x-100, y, duration=1)\n",
    "pyautogui.dragTo(x+100, y, duration=1)"
   ]
  },
  {
   "cell_type": "code",
   "execution_count": 68,
   "metadata": {},
   "outputs": [],
   "source": [
    "# Full speed spin\n",
    "x = pg.size()[0] * 0.75    # width\n",
    "y = pg.size()[1] * 0.5    # height\n",
    "pyautogui.moveTo(x, y)\n",
    "#pyautogui.dragTo(x-100, y, duration=0.5)\n",
    "pyautogui.dragTo(x+500, y, duration=0.05)\n"
   ]
  },
  {
   "cell_type": "code",
   "execution_count": null,
   "metadata": {},
   "outputs": [],
   "source": []
  }
 ],
 "metadata": {
  "kernelspec": {
   "display_name": "Python 3",
   "language": "python",
   "name": "python3"
  },
  "language_info": {
   "codemirror_mode": {
    "name": "ipython",
    "version": 3
   },
   "file_extension": ".py",
   "mimetype": "text/x-python",
   "name": "python",
   "nbconvert_exporter": "python",
   "pygments_lexer": "ipython3",
   "version": "3.7.0"
  }
 },
 "nbformat": 4,
 "nbformat_minor": 2
}
